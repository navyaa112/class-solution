{
  "nbformat": 4,
  "nbformat_minor": 0,
  "metadata": {
    "colab": {
      "provenance": [],
      "authorship_tag": "ABX9TyNg0mrCcZmzMcD3qNMEmA8w",
      "include_colab_link": true
    },
    "kernelspec": {
      "name": "python3",
      "display_name": "Python 3"
    },
    "language_info": {
      "name": "python"
    }
  },
  "cells": [
    {
      "cell_type": "markdown",
      "metadata": {
        "id": "view-in-github",
        "colab_type": "text"
      },
      "source": [
        "<a href=\"https://colab.research.google.com/github/navyaa112/class-solution/blob/main/Untitled2.ipynb\" target=\"_parent\"><img src=\"https://colab.research.google.com/assets/colab-badge.svg\" alt=\"Open In Colab\"/></a>"
      ]
    },
    {
      "cell_type": "code",
      "execution_count": 1,
      "metadata": {
        "id": "ndeOx66qua_g"
      },
      "outputs": [],
      "source": [
        "class Solution:\n",
        "    def minJumps(self, arr, n):\n",
        "        if n==1:\n",
        "            return 0\n",
        "        if n==0:\n",
        "            return -1\n",
        "           \n",
        "        end,maxi,jump = 0,0,0\n",
        "        for i,val in enumerate(arr[:-1]):\n",
        "            maxi=max(maxi,i+val)\n",
        "            if(i==end):\n",
        "                jump+=1\n",
        "                end=maxi\n",
        "        if(end>=n-1):\n",
        "            return jump\n",
        "        else:\n",
        "           return -1\n",
        "            \n",
        " "
      ]
    }
  ]
}